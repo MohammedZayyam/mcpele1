{
 "cells": [
  {
   "cell_type": "markdown",
   "metadata": {},
   "source": [
    "# 2d Ising simulations using python_mc_pele\n",
    "\n",
    "A demonstration of how to use python mc pele to run a simple 2d Ising model. The idea of python_mc_pele is to have a skeleton framework for Markov chain Monte Carlo algorithms/ (or even some non Markov chain ones like Wang Landau)\n",
    "\n",
    "## Ising variables\n",
    "The first step is to define our model. A defining aspect of the model we start with, is a set of variables over which the energy is evaluated (which we will call coordinates). For the Ising model, these happen to be discrete variables, which for an up spin would be $1$ and for a down spin would be $-1$. we can map these onto a boolean numpy array and define a function that takes us back to the Ising coordinates. The reason we usually use boolean coordinates is because they take less space when we deal with spins(although not strictly necessary)"
   ]
  },
  {
   "cell_type": "code",
   "execution_count": 1,
   "metadata": {},
   "outputs": [],
   "source": [
    "%matplotlib inline \n",
    "import numpy as np\n",
    "from matplotlib import pyplot as plt\n",
    "# an example of variables we would have for an NxN ising model\n",
    "SPIN_LENGTH = 10\n",
    "\n",
    "def spin_convert(bool_spin):\n",
    "    \"\"\"  a function to convert [True/False] to [1, -1]\n",
    "    \"\"\"\n",
    "    return bool_spin*2-1"
   ]
  },
  {
   "cell_type": "markdown",
   "metadata": {},
   "source": [
    "## Ising Hamiltonian\n",
    "\n",
    "now we want to define a hamiltonian on the boolean array variables. The Ising hamiltonian is given by \n",
    "\n",
    "/insert latex here/\n",
    "\n",
    "we can define this as \n"
   ]
  },
  {
   "cell_type": "code",
   "execution_count": 2,
   "metadata": {},
   "outputs": [],
   "source": [
    "from mcpele1.energy import Model\n",
    "\n",
    "# slightly modified from from\n",
    "# http://www.physics.rutgers.edu/~haule/681/src_MC/python_codes/wangLand.py\n",
    "\n",
    "class IsingModel(Model):\n",
    "    \"\"\" The Ising Model in 2d\n",
    "\n",
    "    \"\"\"\n",
    "    def __init__(self, n_x, n_y):\n",
    "        self.n_x = n_x\n",
    "        self.n_y = n_y\n",
    "\n",
    "    def get_energy(self, latt):\n",
    "        \"\"\"\n",
    "        Energy of a 2D periodic Ising lattice\n",
    "        Takes a boolean array of coordinates \n",
    "        and calculates energy for it\n",
    "        \"\"\"\n",
    "        # double counted energy\n",
    "        energy = 0\n",
    "        for i in range(self.n_x):\n",
    "            for j in range(self.n_y):\n",
    "                spin = spin_convert(latt[i, j])\n",
    "                w_f = (spin_convert(latt[(i+1) % self.n_x, j])\n",
    "                       + spin_convert(latt[i, (j+1) % self.n_y])\n",
    "                       + spin_convert(latt[(i-1) % self.n_x, j])\n",
    "                       + spin_convert(latt[i, (j-1) % self.n_y]))\n",
    "                energy += - w_f * spin   # Each neighbor gives energy 1.0\n",
    "        return int(energy/2.)   # Each par counted twice"
   ]
  },
  {
   "cell_type": "markdown",
   "metadata": {},
   "source": [
    "## The step\n",
    "The step to be taken can determine how fast our algorithm converges. while we can go with something like swedsen wang or wolff, we go with a simple single flip move; a class derived from TakeStep should have the displace function that basically flips a random spin"
   ]
  },
  {
   "cell_type": "code",
   "execution_count": 3,
   "metadata": {},
   "outputs": [],
   "source": [
    "from mcpele1.montecarlo.template import TakeStep\n",
    "import numpy.random as random\n",
    "\n",
    "class IsingFlip(TakeStep):\n",
    "    \"\"\" Flips a single ising spin on the lattice at random\n",
    "\n",
    "    \"\"\"\n",
    "    def __init__(self, seed, sizex, sizey):\n",
    "        random.seed(seed)\n",
    "        self.seeds = range(np.iinfo(np.int32).max)\n",
    "        self.sizex = sizex\n",
    "        self.sizey = sizey\n",
    "        self.i = 0              # this is ad hoc right now, but check how the seeding should be done\n",
    "\n",
    "    def displace(self, coords, montecarlo):\n",
    "        \"\"\" flips a single spin\n",
    "        \"\"\"\n",
    "        self.i = self.i+1\n",
    "        random.seed(self.seeds[self.i])\n",
    "        # figure out the position of the spin on the lattice\n",
    "        i_x = random.randint(self.sizex)\n",
    "        i_y = random.randint(self.sizey)\n",
    "        coords[i_x, i_y] = not coords[i_x, i_y]"
   ]
  },
  {
   "cell_type": "markdown",
   "metadata": {},
   "source": [
    "## creating the monte carlo runner\n",
    "We have our physical system defined along with a step that the system can take. We also have an inbuilt metropolis test in python_mc_pele. which we can now use to create our monte carlo runner"
   ]
  },
  {
   "cell_type": "code",
   "execution_count": 4,
   "metadata": {},
   "outputs": [
    {
     "name": "stdout",
     "output_type": "stream",
     "text": [
      "[[ True False False]\n",
      " [ True False False]\n",
      " [False False  True]]\n"
     ]
    }
   ],
   "source": [
    "import sys\n",
    "directory = \"/home/praharsh/Dropbox/research/bv-libraries/mcpele1\"\n",
    "sys.path.append(directory)\n",
    "from mcpele1.montecarlo.mc import MC\n",
    "from mcpele1.accepttest import MetropolisTest\n",
    "from mcpele1.action import RecordEnergyTimeSeries\n",
    "\n",
    "\n",
    "\n",
    "# python raises too many arguments error\n",
    "# proper fix?\n",
    "class IsingMetropolisMonteCarlo():\n",
    "    \"\"\" Single flip montecarlo runner for the ising model\n",
    "\n",
    "    \"\"\"\n",
    "    def __init__(self, temperature, N,\n",
    "                 record_every=10, stepskip=1000, nsteps=1e5):\n",
    "        random.seed(10)\n",
    "        initial_coords = random.randint(2,\n",
    "                                        size=(N, N),\n",
    "                                        dtype=bool)  # we're starting\n",
    "                                                     # with a random initial configuration\n",
    "\n",
    "        # define the monte carlo runner with\n",
    "        # the potential function , initial coordinates and temperature\n",
    "        ising_model = IsingModel(N, N)\n",
    "        self.mc = MC(ising_model, initial_coords, temperature)\n",
    "        # add the step type\n",
    "        self.take_step = IsingFlip(10, N, N)\n",
    "        seeds = range(np.iinfo(np.int32).max)\n",
    "        # accept test\n",
    "        self.accept_test = MetropolisTest(seeds)\n",
    "\n",
    "        # action\n",
    "        # record_energy\n",
    "        self.action = RecordEnergyTimeSeries(record_every, stepskip)\n",
    "\n",
    "        print(initial_coords)\n",
    "        self.mc.set_take_step(self.take_step)\n",
    "        self.mc.add_accept_test(self.accept_test)\n",
    "        self.mc.add_action(self.action)\n",
    "        self.nsteps = nsteps\n",
    "    def run(self):\n",
    "        \"\"\" Runs the Monte Carlo simulation\n",
    "        \"\"\"\n",
    "        print(self.nsteps)\n",
    "        self.mc.run(self.nsteps)\n",
    "\n",
    "    def get_et_series(self):\n",
    "        \"\"\" gets the array of energies at every iteration\n",
    "        \"\"\"\n",
    "        return np.array(self.action.get_energy_time_series())\n",
    "\n",
    "\n",
    "# for your syntax checker that may assume the following are global constants\n",
    "# pylint: disable=C0103\n",
    "\n",
    "# Ising metropolis methods for the Ising model\n",
    "\n",
    "ising_mc = IsingMetropolisMonteCarlo(4, 3,\n",
    "                                     record_every=1, stepskip=0, nsteps=1e4)"
   ]
  },
  {
   "cell_type": "markdown",
   "metadata": {},
   "source": [
    "\n",
    "\n"
   ]
  },
  {
   "cell_type": "markdown",
   "metadata": {},
   "source": [
    "## generating the energy time series for a few temperatures"
   ]
  },
  {
   "cell_type": "code",
   "execution_count": 5,
   "metadata": {},
   "outputs": [
    {
     "name": "stdout",
     "output_type": "stream",
     "text": [
      "[[ True False False  True]\n",
      " [False False False False]\n",
      " [ True False  True False]\n",
      " [False False  True False]]\n",
      "10000.0\n",
      "[[ True False False  True]\n",
      " [False False False False]\n",
      " [ True False  True False]\n",
      " [False False  True False]]\n",
      "10000.0\n",
      "[[ True False False  True]\n",
      " [False False False False]\n",
      " [ True False  True False]\n",
      " [False False  True False]]\n",
      "10000.0\n",
      "[[ True False False  True]\n",
      " [False False False False]\n",
      " [ True False  True False]\n",
      " [False False  True False]]\n",
      "10000.0\n",
      "[[ True False False  True]\n",
      " [False False False False]\n",
      " [ True False  True False]\n",
      " [False False  True False]]\n",
      "10000.0\n",
      "[[ True False False  True]\n",
      " [False False False False]\n",
      " [ True False  True False]\n",
      " [False False  True False]]\n",
      "10000.0\n",
      "[[ True False False  True]\n",
      " [False False False False]\n",
      " [ True False  True False]\n",
      " [False False  True False]]\n",
      "10000.0\n",
      "[[ True False False  True]\n",
      " [False False False False]\n",
      " [ True False  True False]\n",
      " [False False  True False]]\n",
      "10000.0\n",
      "[[ True False False  True]\n",
      " [False False False False]\n",
      " [ True False  True False]\n",
      " [False False  True False]]\n",
      "10000.0\n",
      "[[ True False False  True]\n",
      " [False False False False]\n",
      " [ True False  True False]\n",
      " [False False  True False]]\n",
      "10000.0\n",
      "[[ True False False  True]\n",
      " [False False False False]\n",
      " [ True False  True False]\n",
      " [False False  True False]]\n",
      "10000.0\n"
     ]
    }
   ],
   "source": [
    "temps = [0.1, 0.5, 1, 2, 4, 6, 8, 10, 20, 30, 40]\n",
    "etavl = []\n",
    "for temp in temps:\n",
    "    ising_mc = IsingMetropolisMonteCarlo(temp, 4,\n",
    "                                         record_every=1, stepskip=0, nsteps=1e4)\n",
    "    ising_mc.run()\n",
    "    etavl.append(np.average(ising_mc.get_et_series())/4)"
   ]
  },
  {
   "cell_type": "code",
   "execution_count": 6,
   "metadata": {},
   "outputs": [
    {
     "data": {
      "image/png": "[encoded data removed]",
      "text/plain": [
       "<Figure size 432x288 with 1 Axes>"
      ]
     },
     "metadata": {
      "needs_background": "light"
     },
     "output_type": "display_data"
    }
   ],
   "source": [
    "plt.plot(temps, etavl)\n",
    "plt.show()"
   ]
  },
  {
   "cell_type": "code",
   "execution_count": null,
   "metadata": {},
   "outputs": [],
   "source": []
  }
 ],
 "metadata": {
  "kernelspec": {
   "display_name": "Python 3",
   "language": "python",
   "name": "python3"
  },
  "language_info": {
   "codemirror_mode": {
    "name": "ipython",
    "version": 3
   },
   "file_extension": ".py",
   "mimetype": "text/x-python",
   "name": "python",
   "nbconvert_exporter": "python",
   "pygments_lexer": "ipython3",
   "version": "3.7.4"
  },
  "name": "ising.ipynb"
 },
 "nbformat": 4,
 "nbformat_minor": 4
}
