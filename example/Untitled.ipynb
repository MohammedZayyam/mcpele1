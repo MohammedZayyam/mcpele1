{
 "cells": [
  {
   "cell_type": "markdown",
   "metadata": {},
   "source": [
    "# 2d Ising simulations using python_mc_pele\n",
    "\n",
    "A demonstration of how to use python mc pele to run a simple 2d Ising model. The idea of python_mc_pele is to have a skeleton framework for Markov chain Monte Carlo algorithms/ (or even some non Markov chain ones like Wang Landau)\n",
    "\n",
    "## Ising variables\n",
    "The first step is to define our model. A defining aspect of the model we start with, is a set of variables over which the energy is evaluated (which we will call coordinates). For the Ising model, these happen to be discrete variables, which for an up spin would be $1$ and for a down spin would be $-1$. we can map these onto a boolean numpy array and define a function that takes us back to the Ising coordinates. The reason we usually use boolean coordinates is because they take less space when we deal with spins(although not strictly necessary)"
   ]
  },
  {
   "cell_type": "code",
   "execution_count": 1,
   "metadata": {},
   "outputs": [
    {
     "data": {
      "text/plain": [
       "10"
      ]
     },
     "execution_count": 1,
     "metadata": {},
     "output_type": "execute_result"
    }
   ],
   "source": [
    "%matplotlib inline \n",
    "import numpy as np\n",
    "from matplotlib import pyplot as plt\n",
    "# an example of variables we would have for an NxN ising model\n",
    "spin_length = 10\n",
    "example_coordinates = np.zeros((spin_length, spin_length), dtype=bool)\n",
    "def spin_convert(bool_spin):\n",
    "    \"\"\"  a function to convert [True/False] to [1, -1]\n",
    "    \"\"\"\n",
    "    return bool_spin*2-1\n",
    "\n",
    "example_coordinates.shape[0]"
   ]
  },
  {
   "cell_type": "markdown",
   "metadata": {},
   "source": [
    "## Ising Hamiltonian\n",
    "\n",
    "now we want to define a hamiltonian on the boolean array variables. The Ising hamiltonian is given by \n",
    "\n",
    "/insert latex here/\n",
    "\n",
    "we can define this as \n"
   ]
  },
  {
   "cell_type": "code",
   "execution_count": 2,
   "metadata": {},
   "outputs": [],
   "source": [
    "# slightly modified from from http://www.physics.rutgers.edu/~haule/681/src_MC/python_codes/wangLand.py\n",
    "def Ising_Energy(latt):\n",
    "    \"Energy of a 2D periodic Ising lattice\"\n",
    "    Ene = 0\n",
    "    Nx, Ny = latt.shape\n",
    "    for i in range(Nx):\n",
    "        for j in range(Ny):\n",
    "            S = spin_convert(latt[i,j])\n",
    "            WF = spin_convert(latt[(i+1)%Nx, j]) + spin_convert(latt[i,(j+1)%Ny]) + spin_convert(latt[(i-1)%Nx,j]) + spin_convert(latt[i,(j-1)%Ny])\n",
    "            Ene += -WF*S # Each neighbor gives energy 1.0\n",
    "    return int(Ene/2.)   # Each par counted twice"
   ]
  },
  {
   "cell_type": "markdown",
   "metadata": {},
   "source": [
    "## The step\n",
    "The step to be taken can determine how fast our algorithm converges. while we can go with something like swedsen wang or wolff, we go with a simple single flip move; a class derived from TakeStep should have the displace function that basically flips a random spin"
   ]
  },
  {
   "cell_type": "code",
   "execution_count": 3,
   "metadata": {},
   "outputs": [
    {
     "name": "stdout",
     "output_type": "stream",
     "text": [
      "[[False False False False False False False False False False]\n",
      " [False False False False False False False False False False]\n",
      " [False False False False False False False False False False]\n",
      " [False False False False False False False False False False]\n",
      " [False False False False False False False False False False]\n",
      " [False False False False False False False False  True False]\n",
      " [False False False False False False False False False False]\n",
      " [False False False False False False False False False False]\n",
      " [False False False False False False False False False False]\n",
      " [False False False False False False False False False False]]\n"
     ]
    }
   ],
   "source": [
    "from mcpele1.montecarlo.template import TakeStep\n",
    "import numpy.random as random\n",
    "\n",
    "class Ising_Flip(TakeStep):\n",
    "    \"\"\" Flips a single ising spin on the lattice at random\n",
    "\n",
    "    \"\"\"\n",
    "    def __init__(self, seed,  sizex, sizey):\n",
    "        random.seed(seed)\n",
    "        self.seeds = range(np.iinfo(np.int32).max)\n",
    "        self.sizex = sizex\n",
    "        self.sizey = sizey\n",
    "        self.i = 0              # this is ad hoc right now, but check how the seeding should be done \n",
    "\n",
    "    def displace(self, coords):\n",
    "        self.i=self.i+1\n",
    "        random.seed(self.seeds[self.i])\n",
    "        # figure out the position of the spin on the lattice\n",
    "        ix = random.randint(self.sizex)\n",
    "        iy = random.randint(self.sizey)\n",
    "        coords[ix, iy] = not coords[ix, iy]\n",
    "\n",
    "b = Ising_Flip(31, 10, 10)\n",
    "b.displace(example_coordinates)\n",
    "print(example_coordinates)"
   ]
  },
  {
   "cell_type": "markdown",
   "metadata": {},
   "source": [
    "## creating the monte carlo runner\n",
    "We have our physical system defined along with a step that the system can take. We also have an inbuilt metropolis test in python_mc_pele. which we can now use to create our monte carlo runner"
   ]
  },
  {
   "cell_type": "code",
   "execution_count": 12,
   "metadata": {},
   "outputs": [
    {
     "name": "stdout",
     "output_type": "stream",
     "text": [
      "2\n",
      "[[ True False False]\n",
      " [ True False False]\n",
      " [False False  True]]\n",
      "10000.0\n",
      "-6.2824\n"
     ]
    },
    {
     "data": {
      "image/png": "[encoded data removed]",
      "text/plain": [
       "<Figure size 432x288 with 1 Axes>"
      ]
     },
     "metadata": {
      "needs_background": "light"
     },
     "output_type": "display_data"
    }
   ],
   "source": [
    "import sys\n",
    "sys.path.append(\"/home/praharsh/Dropbox/research/bv-libraries/python_mc_pele\")\n",
    "from mcpele1.montecarlo.mc import MC\n",
    "from mcpele1.accepttest import MetropolisTest\n",
    "from mcpele1.action import RecordEnergyTimeSeries\n",
    "\n",
    "class Ising_Metropolis_Monte_carlo(object):\n",
    "    \"\"\" Single flip montecarlo runner for the ising model\n",
    "\n",
    "    \"\"\"\n",
    "    def __init__(self, temperature, N, record_every=10, stepskip=1000, nsteps=1e5):\n",
    "        random.seed(10)\n",
    "        initial_coords = random.randint(2, size=(N, N), dtype =bool)  # we're starting with a random initial configuration\n",
    "        # define the monte carlo runner with the potential function , initial coordinates and temperature\n",
    "        self.mc = MC(Ising_Energy, initial_coords, temperature)\n",
    "        print(Ising_Energy(initial_coords))\n",
    "        # add the step type\n",
    "        self.take_step = Ising_Flip(10, N, N)\n",
    "        seeds = range(np.iinfo(np.int32).max)\n",
    "        # accept test\n",
    "        self.accept_test = MetropolisTest(seeds)\n",
    "\n",
    "        # action\n",
    "        \n",
    "        # record_energy\n",
    "        self.action = RecordEnergyTimeSeries(record_every, stepskip)\n",
    "        \n",
    "        print(initial_coords)\n",
    "        self.mc.set_take_step(self.take_step)\n",
    "        self.mc.add_accept_test(self.accept_test)\n",
    "        self.mc.add_action(self.action)\n",
    "        self.nsteps = nsteps\n",
    "    def run(self):\n",
    "        print(self.nsteps)\n",
    "        self.mc.run(self.nsteps)\n",
    "\n",
    "    def get_et_series(self):\n",
    "        return np.array(self.action.get_energy_time_series())\n",
    "\n",
    "# Ising metropolis methods for the Ising model \n",
    "ising_mc = Ising_Metropolis_Monte_carlo(4, 3, record_every=1, stepskip=0, nsteps=1e4)\n",
    "\n",
    "ising_mc.run()\n",
    "\n"
   ]
  },
  {
   "cell_type": "markdown",
   "metadata": {},
   "source": [
    "\n",
    "\n"
   ]
  },
  {
   "cell_type": "markdown",
   "metadata": {},
   "source": [
    "## generating the energy time series for a few temperatures"
   ]
  },
  {
   "cell_type": "code",
   "execution_count": 20,
   "metadata": {},
   "outputs": [
    {
     "name": "stdout",
     "output_type": "stream",
     "text": [
      "0\n",
      "[[ True False False  True]\n",
      " [False False False False]\n",
      " [ True False  True False]\n",
      " [False False  True False]]\n",
      "10000.0\n",
      "0\n",
      "[[ True False False  True]\n",
      " [False False False False]\n",
      " [ True False  True False]\n",
      " [False False  True False]]\n",
      "10000.0\n",
      "0\n",
      "[[ True False False  True]\n",
      " [False False False False]\n",
      " [ True False  True False]\n",
      " [False False  True False]]\n",
      "10000.0\n",
      "0\n",
      "[[ True False False  True]\n",
      " [False False False False]\n",
      " [ True False  True False]\n",
      " [False False  True False]]\n",
      "10000.0\n",
      "0\n",
      "[[ True False False  True]\n",
      " [False False False False]\n",
      " [ True False  True False]\n",
      " [False False  True False]]\n",
      "10000.0\n",
      "0\n",
      "[[ True False False  True]\n",
      " [False False False False]\n",
      " [ True False  True False]\n",
      " [False False  True False]]\n",
      "10000.0\n",
      "0\n",
      "[[ True False False  True]\n",
      " [False False False False]\n",
      " [ True False  True False]\n",
      " [False False  True False]]\n",
      "10000.0\n",
      "0\n",
      "[[ True False False  True]\n",
      " [False False False False]\n",
      " [ True False  True False]\n",
      " [False False  True False]]\n",
      "10000.0\n",
      "0\n",
      "[[ True False False  True]\n",
      " [False False False False]\n",
      " [ True False  True False]\n",
      " [False False  True False]]\n",
      "10000.0\n",
      "0\n",
      "[[ True False False  True]\n",
      " [False False False False]\n",
      " [ True False  True False]\n",
      " [False False  True False]]\n",
      "10000.0\n",
      "0\n",
      "[[ True False False  True]\n",
      " [False False False False]\n",
      " [ True False  True False]\n",
      " [False False  True False]]\n",
      "10000.0\n"
     ]
    }
   ],
   "source": [
    "temps = [ 0.1, 0.5, 1, 2, 4, 6, 8, 10, 20, 30, 40]\n",
    "etavl = []\n",
    "for temp in temps:\n",
    "    ising_mc = Ising_Metropolis_Monte_carlo(temp, 4, record_every=1, stepskip=0, nsteps=1e4)\n",
    "    ising_mc.run()\n",
    "    etavl.append(np.average(ising_mc.get_et_series())/4)\n",
    "    \n",
    "\n"
   ]
  },
  {
   "cell_type": "code",
   "execution_count": 22,
   "metadata": {},
   "outputs": [
    {
     "data": {
      "image/png": "[encoded data removed]",
      "text/plain": [
       "<Figure size 432x288 with 1 Axes>"
      ]
     },
     "metadata": {
      "needs_background": "light"
     },
     "output_type": "display_data"
    }
   ],
   "source": [
    "plt.plot(temps, etavl)\n",
    "plt.show()"
   ]
  },
  {
   "cell_type": "code",
   "execution_count": null,
   "metadata": {},
   "outputs": [],
   "source": []
  }
 ],
 "metadata": {
  "kernelspec": {
   "display_name": "Python 3",
   "language": "python",
   "name": "python3"
  },
  "language_info": {
   "codemirror_mode": {
    "name": "ipython",
    "version": 3
   },
   "file_extension": ".py",
   "mimetype": "text/x-python",
   "name": "python",
   "nbconvert_exporter": "python",
   "pygments_lexer": "ipython3",
   "version": "3.7.4"
  },
  "name": "Untitled.ipynb"
 },
 "nbformat": 4,
 "nbformat_minor": 2
}
